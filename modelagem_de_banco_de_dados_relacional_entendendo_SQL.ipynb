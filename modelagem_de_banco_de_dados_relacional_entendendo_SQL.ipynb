{
 "cells": [
  {
   "cell_type": "code",
   "execution_count": 1,
   "metadata": {},
   "outputs": [],
   "source": [
    "%%capture\n",
    "!pip install pyspark\n",
    "!pip install delta-spark"
   ]
  },
  {
   "cell_type": "code",
   "execution_count": 2,
   "metadata": {},
   "outputs": [],
   "source": [
    "import pyspark\n",
    "from delta import *"
   ]
  },
  {
   "cell_type": "code",
   "execution_count": 4,
   "metadata": {},
   "outputs": [],
   "source": [
    "%%capture\n",
    "builder = (pyspark.sql.SparkSession.builder.appName(\"model_SQL\")\n",
    "    .config(\"spark.sql.extensions\", \"io.delta.sql.DeltaSparkSessionExtension\")\n",
    "    .config(\"spark.sql.catalog.spark_catalog\", \"org.apache.spark.sql.delta.catalog.DeltaCatalog\")\n",
    ")\n",
    "\n",
    "spark = configure_spark_with_delta_pip(builder).getOrCreate()"
   ]
  },
  {
   "cell_type": "code",
   "execution_count": 5,
   "metadata": {},
   "outputs": [],
   "source": [
    "%%bash\n",
    "if [ -d spark-warehouse ]\n",
    "then\n",
    "    rm -r spark-warehouse\n",
    "fi"
   ]
  },
  {
   "cell_type": "code",
   "execution_count": 6,
   "metadata": {},
   "outputs": [
    {
     "data": {
      "text/plain": [
       "DataFrame[]"
      ]
     },
     "execution_count": 6,
     "metadata": {},
     "output_type": "execute_result"
    }
   ],
   "source": [
    "spark.sql(\"CREATE DATABASE IF NOT EXISTS empresa;\")"
   ]
  },
  {
   "cell_type": "code",
   "execution_count": 7,
   "metadata": {},
   "outputs": [
    {
     "name": "stderr",
     "output_type": "stream",
     "text": [
      "                                                                                \r"
     ]
    },
    {
     "data": {
      "text/plain": [
       "DataFrame[]"
      ]
     },
     "execution_count": 7,
     "metadata": {},
     "output_type": "execute_result"
    }
   ],
   "source": [
    "spark.sql(\n",
    "\"\"\"\n",
    "CREATE OR REPLACE TABLE empresa.funcionario (\n",
    "  cpf STRING,\n",
    "  data_nascimento TIMESTAMP,\n",
    "  primeiro_nome STRING,\n",
    "  nome_meio STRING,\n",
    "  ultimo_nome STRING,\n",
    "  endereco  STRING,\n",
    "  salario DOUBLE,\n",
    "  sexo STRING,\n",
    "  cpf_supervisor STRING,\n",
    "  numero_departamento INT\n",
    "\n",
    ") USING DELTA\n",
    "\"\"\"\n",
    ")"
   ]
  },
  {
   "cell_type": "code",
   "execution_count": 8,
   "metadata": {},
   "outputs": [
    {
     "data": {
      "text/plain": [
       "DataFrame[]"
      ]
     },
     "execution_count": 8,
     "metadata": {},
     "output_type": "execute_result"
    }
   ],
   "source": [
    "spark.sql(\n",
    "\"\"\"\n",
    "CREATE OR REPLACE TABLE empresa.dependente (\n",
    "  cpf_funcionario STRING,\n",
    "  nome_dependente STRING,\n",
    "  sexo STRING,\n",
    "  data_nascimento TIMESTAMP,\n",
    "  parentesco STRING\n",
    ") USING DELTA\n",
    "\"\"\"\n",
    ")"
   ]
  },
  {
   "cell_type": "code",
   "execution_count": 9,
   "metadata": {},
   "outputs": [
    {
     "data": {
      "text/plain": [
       "DataFrame[]"
      ]
     },
     "execution_count": 9,
     "metadata": {},
     "output_type": "execute_result"
    }
   ],
   "source": [
    "spark.sql(\n",
    "\"\"\"\n",
    "INSERT OVERWRITE empresa.funcionario VALUES\n",
    "    ('65329865388', '1962-12-31','Ricardo','K','Marini','Rua Itapira 44 Santos, SP', 3700, 'M','65329865388',1),\n",
    "    ('59310458637', '1992-07-14','Vinicius','S','Vale','Rua Artur Bernanrdes 2, SP', 5500, 'M','65329865388',1);\n",
    "\"\"\"\n",
    ")"
   ]
  },
  {
   "cell_type": "code",
   "execution_count": 10,
   "metadata": {},
   "outputs": [],
   "source": [
    "df = spark.sql(\"\"\"\n",
    "SELECT * FROM empresa.funcionario\n",
    "\"\"\")"
   ]
  },
  {
   "cell_type": "code",
   "execution_count": 11,
   "metadata": {},
   "outputs": [
    {
     "name": "stdout",
     "output_type": "stream",
     "text": [
      "root\n",
      " |-- cpf: string (nullable = true)\n",
      " |-- data_nascimento: timestamp (nullable = true)\n",
      " |-- primeiro_nome: string (nullable = true)\n",
      " |-- nome_meio: string (nullable = true)\n",
      " |-- ultimo_nome: string (nullable = true)\n",
      " |-- endereco: string (nullable = true)\n",
      " |-- salario: double (nullable = true)\n",
      " |-- sexo: string (nullable = true)\n",
      " |-- cpf_supervisor: string (nullable = true)\n",
      " |-- numero_departamento: integer (nullable = true)\n",
      "\n"
     ]
    }
   ],
   "source": [
    "df.printSchema()"
   ]
  },
  {
   "cell_type": "code",
   "execution_count": 12,
   "metadata": {},
   "outputs": [
    {
     "name": "stderr",
     "output_type": "stream",
     "text": [
      "WARNING:root:'PYARROW_IGNORE_TIMEZONE' environment variable was not set. It is required to set this environment variable to '1' in both driver and executor sides if you use pyarrow>=2.0.0. pandas-on-Spark will set it for you but it does not work if there is a Spark context already launched.\n",
      "22/05/22 11:30:04 WARN WindowExec: No Partition Defined for Window operation! Moving all data to a single partition, this can cause serious performance degradation.\n",
      "22/05/22 11:30:04 WARN WindowExec: No Partition Defined for Window operation! Moving all data to a single partition, this can cause serious performance degradation.\n"
     ]
    },
    {
     "data": {
      "text/html": [
       "<div>\n",
       "<style scoped>\n",
       "    .dataframe tbody tr th:only-of-type {\n",
       "        vertical-align: middle;\n",
       "    }\n",
       "\n",
       "    .dataframe tbody tr th {\n",
       "        vertical-align: top;\n",
       "    }\n",
       "\n",
       "    .dataframe thead th {\n",
       "        text-align: right;\n",
       "    }\n",
       "</style>\n",
       "<table border=\"1\" class=\"dataframe\">\n",
       "  <thead>\n",
       "    <tr style=\"text-align: right;\">\n",
       "      <th></th>\n",
       "      <th>cpf</th>\n",
       "      <th>data_nascimento</th>\n",
       "      <th>primeiro_nome</th>\n",
       "      <th>nome_meio</th>\n",
       "      <th>ultimo_nome</th>\n",
       "      <th>endereco</th>\n",
       "      <th>salario</th>\n",
       "      <th>sexo</th>\n",
       "      <th>cpf_supervisor</th>\n",
       "      <th>numero_departamento</th>\n",
       "    </tr>\n",
       "  </thead>\n",
       "  <tbody>\n",
       "    <tr>\n",
       "      <th>0</th>\n",
       "      <td>65329865388</td>\n",
       "      <td>1962-12-31</td>\n",
       "      <td>Ricardo</td>\n",
       "      <td>K</td>\n",
       "      <td>Marini</td>\n",
       "      <td>Rua Itapira 44 Santos, SP</td>\n",
       "      <td>3700.0</td>\n",
       "      <td>M</td>\n",
       "      <td>65329865388</td>\n",
       "      <td>1</td>\n",
       "    </tr>\n",
       "    <tr>\n",
       "      <th>1</th>\n",
       "      <td>59310458637</td>\n",
       "      <td>1992-07-14</td>\n",
       "      <td>Vinicius</td>\n",
       "      <td>S</td>\n",
       "      <td>Vale</td>\n",
       "      <td>Rua Artur Bernanrdes 2, SP</td>\n",
       "      <td>5500.0</td>\n",
       "      <td>M</td>\n",
       "      <td>65329865388</td>\n",
       "      <td>1</td>\n",
       "    </tr>\n",
       "  </tbody>\n",
       "</table>\n",
       "</div>"
      ],
      "text/plain": [
       "           cpf data_nascimento primeiro_nome nome_meio ultimo_nome                    endereco  salario sexo cpf_supervisor  numero_departamento\n",
       "0  65329865388      1962-12-31       Ricardo         K      Marini   Rua Itapira 44 Santos, SP   3700.0    M    65329865388                    1\n",
       "1  59310458637      1992-07-14      Vinicius         S        Vale  Rua Artur Bernanrdes 2, SP   5500.0    M    65329865388                    1"
      ]
     },
     "execution_count": 12,
     "metadata": {},
     "output_type": "execute_result"
    }
   ],
   "source": [
    "df.to_pandas_on_spark()"
   ]
  },
  {
   "cell_type": "code",
   "execution_count": 13,
   "metadata": {},
   "outputs": [
    {
     "data": {
      "text/plain": [
       "DataFrame[]"
      ]
     },
     "execution_count": 13,
     "metadata": {},
     "output_type": "execute_result"
    }
   ],
   "source": [
    "spark.sql(\n",
    "\"\"\"\n",
    "CREATE OR REPLACE TABLE empresa.departamento (\n",
    "  numero_departamento INT,\n",
    "  data_inicio_gerente TIMESTAMP,\n",
    "  nome_departamento STRING,\n",
    "  cpf_gerente STRING\n",
    ") USING DELTA\n",
    "\"\"\"\n",
    ")"
   ]
  },
  {
   "cell_type": "code",
   "execution_count": 14,
   "metadata": {},
   "outputs": [
    {
     "data": {
      "text/plain": [
       "DataFrame[]"
      ]
     },
     "execution_count": 14,
     "metadata": {},
     "output_type": "execute_result"
    }
   ],
   "source": [
    "spark.sql(\n",
    "\"\"\"\n",
    "INSERT OVERWRITE empresa.funcionario VALUES\n",
    "('3248493205','1966-03-04','Pedro','P','Machado','Rua Projetada A numero 27',2000,'M','65329865388',1),\n",
    "('8859483743','1973-05-16','Maria','R','Oliveira','Rua Altamira 23',2200,'F','8859483743',2),\n",
    "('65477565447','1983-10-18','Marcio','J','Gomes','Rua Casemiro 28',1500,'M','3248493205',1)\n",
    "\"\"\"\n",
    ")"
   ]
  },
  {
   "cell_type": "code",
   "execution_count": 15,
   "metadata": {},
   "outputs": [
    {
     "data": {
      "text/plain": [
       "DataFrame[]"
      ]
     },
     "execution_count": 15,
     "metadata": {},
     "output_type": "execute_result"
    }
   ],
   "source": [
    "spark.sql(\n",
    "\"\"\"\n",
    "INSERT OVERWRITE empresa.departamento VALUES\n",
    "(1,'2020-02-01','Pesquisa','65329865388'),\n",
    "(2,'2018-10-02','Comercial','8859483743')\n",
    "\"\"\"\n",
    ")"
   ]
  },
  {
   "cell_type": "code",
   "execution_count": 16,
   "metadata": {},
   "outputs": [
    {
     "data": {
      "text/plain": [
       "DataFrame[]"
      ]
     },
     "execution_count": 16,
     "metadata": {},
     "output_type": "execute_result"
    }
   ],
   "source": [
    "spark.sql(\n",
    "\"\"\"\n",
    "UPDATE empresa.funcionario SET nome_meio = 'S' WHERE cpf = '8859483743';\n",
    "\"\"\"\n",
    ")"
   ]
  },
  {
   "cell_type": "code",
   "execution_count": 17,
   "metadata": {},
   "outputs": [],
   "source": [
    "funcionario = spark.sql(\"\"\"\n",
    "SELECT * FROM empresa.funcionario\n",
    "\"\"\")"
   ]
  },
  {
   "cell_type": "code",
   "execution_count": 18,
   "metadata": {},
   "outputs": [
    {
     "name": "stderr",
     "output_type": "stream",
     "text": [
      "22/05/22 11:30:22 WARN WindowExec: No Partition Defined for Window operation! Moving all data to a single partition, this can cause serious performance degradation.\n",
      "22/05/22 11:30:22 WARN WindowExec: No Partition Defined for Window operation! Moving all data to a single partition, this can cause serious performance degradation.\n"
     ]
    },
    {
     "data": {
      "text/html": [
       "<div>\n",
       "<style scoped>\n",
       "    .dataframe tbody tr th:only-of-type {\n",
       "        vertical-align: middle;\n",
       "    }\n",
       "\n",
       "    .dataframe tbody tr th {\n",
       "        vertical-align: top;\n",
       "    }\n",
       "\n",
       "    .dataframe thead th {\n",
       "        text-align: right;\n",
       "    }\n",
       "</style>\n",
       "<table border=\"1\" class=\"dataframe\">\n",
       "  <thead>\n",
       "    <tr style=\"text-align: right;\">\n",
       "      <th></th>\n",
       "      <th>cpf</th>\n",
       "      <th>data_nascimento</th>\n",
       "      <th>primeiro_nome</th>\n",
       "      <th>nome_meio</th>\n",
       "      <th>ultimo_nome</th>\n",
       "      <th>endereco</th>\n",
       "      <th>salario</th>\n",
       "      <th>sexo</th>\n",
       "      <th>cpf_supervisor</th>\n",
       "      <th>numero_departamento</th>\n",
       "    </tr>\n",
       "  </thead>\n",
       "  <tbody>\n",
       "    <tr>\n",
       "      <th>0</th>\n",
       "      <td>3248493205</td>\n",
       "      <td>1966-03-04</td>\n",
       "      <td>Pedro</td>\n",
       "      <td>P</td>\n",
       "      <td>Machado</td>\n",
       "      <td>Rua Projetada A numero 27</td>\n",
       "      <td>2000.0</td>\n",
       "      <td>M</td>\n",
       "      <td>65329865388</td>\n",
       "      <td>1</td>\n",
       "    </tr>\n",
       "    <tr>\n",
       "      <th>1</th>\n",
       "      <td>8859483743</td>\n",
       "      <td>1973-05-16</td>\n",
       "      <td>Maria</td>\n",
       "      <td>S</td>\n",
       "      <td>Oliveira</td>\n",
       "      <td>Rua Altamira 23</td>\n",
       "      <td>2200.0</td>\n",
       "      <td>F</td>\n",
       "      <td>8859483743</td>\n",
       "      <td>2</td>\n",
       "    </tr>\n",
       "    <tr>\n",
       "      <th>2</th>\n",
       "      <td>65477565447</td>\n",
       "      <td>1983-10-18</td>\n",
       "      <td>Marcio</td>\n",
       "      <td>J</td>\n",
       "      <td>Gomes</td>\n",
       "      <td>Rua Casemiro 28</td>\n",
       "      <td>1500.0</td>\n",
       "      <td>M</td>\n",
       "      <td>3248493205</td>\n",
       "      <td>1</td>\n",
       "    </tr>\n",
       "  </tbody>\n",
       "</table>\n",
       "</div>"
      ],
      "text/plain": [
       "           cpf data_nascimento primeiro_nome nome_meio ultimo_nome                   endereco  salario sexo cpf_supervisor  numero_departamento\n",
       "0   3248493205      1966-03-04         Pedro         P     Machado  Rua Projetada A numero 27   2000.0    M    65329865388                    1\n",
       "1   8859483743      1973-05-16         Maria         S    Oliveira            Rua Altamira 23   2200.0    F     8859483743                    2\n",
       "2  65477565447      1983-10-18        Marcio         J       Gomes            Rua Casemiro 28   1500.0    M     3248493205                    1"
      ]
     },
     "execution_count": 18,
     "metadata": {},
     "output_type": "execute_result"
    }
   ],
   "source": [
    "funcionario.to_pandas_on_spark()"
   ]
  },
  {
   "cell_type": "code",
   "execution_count": 19,
   "metadata": {},
   "outputs": [
    {
     "data": {
      "text/plain": [
       "DataFrame[]"
      ]
     },
     "execution_count": 19,
     "metadata": {},
     "output_type": "execute_result"
    }
   ],
   "source": [
    "spark.sql(\n",
    "\"\"\"\n",
    "UPDATE empresa.funcionario SET salario = 1.1 * salario WHERE numero_departamento = 1;\n",
    "\"\"\"\n",
    ")"
   ]
  },
  {
   "cell_type": "code",
   "execution_count": 20,
   "metadata": {},
   "outputs": [
    {
     "name": "stderr",
     "output_type": "stream",
     "text": [
      "22/05/22 11:30:27 WARN WindowExec: No Partition Defined for Window operation! Moving all data to a single partition, this can cause serious performance degradation.\n",
      "22/05/22 11:30:27 WARN WindowExec: No Partition Defined for Window operation! Moving all data to a single partition, this can cause serious performance degradation.\n"
     ]
    },
    {
     "data": {
      "text/html": [
       "<div>\n",
       "<style scoped>\n",
       "    .dataframe tbody tr th:only-of-type {\n",
       "        vertical-align: middle;\n",
       "    }\n",
       "\n",
       "    .dataframe tbody tr th {\n",
       "        vertical-align: top;\n",
       "    }\n",
       "\n",
       "    .dataframe thead th {\n",
       "        text-align: right;\n",
       "    }\n",
       "</style>\n",
       "<table border=\"1\" class=\"dataframe\">\n",
       "  <thead>\n",
       "    <tr style=\"text-align: right;\">\n",
       "      <th></th>\n",
       "      <th>cpf</th>\n",
       "      <th>data_nascimento</th>\n",
       "      <th>primeiro_nome</th>\n",
       "      <th>nome_meio</th>\n",
       "      <th>ultimo_nome</th>\n",
       "      <th>endereco</th>\n",
       "      <th>salario</th>\n",
       "      <th>sexo</th>\n",
       "      <th>cpf_supervisor</th>\n",
       "      <th>numero_departamento</th>\n",
       "    </tr>\n",
       "  </thead>\n",
       "  <tbody>\n",
       "    <tr>\n",
       "      <th>0</th>\n",
       "      <td>3248493205</td>\n",
       "      <td>1966-03-04</td>\n",
       "      <td>Pedro</td>\n",
       "      <td>P</td>\n",
       "      <td>Machado</td>\n",
       "      <td>Rua Projetada A numero 27</td>\n",
       "      <td>2200.0</td>\n",
       "      <td>M</td>\n",
       "      <td>65329865388</td>\n",
       "      <td>1</td>\n",
       "    </tr>\n",
       "    <tr>\n",
       "      <th>1</th>\n",
       "      <td>8859483743</td>\n",
       "      <td>1973-05-16</td>\n",
       "      <td>Maria</td>\n",
       "      <td>S</td>\n",
       "      <td>Oliveira</td>\n",
       "      <td>Rua Altamira 23</td>\n",
       "      <td>2200.0</td>\n",
       "      <td>F</td>\n",
       "      <td>8859483743</td>\n",
       "      <td>2</td>\n",
       "    </tr>\n",
       "    <tr>\n",
       "      <th>2</th>\n",
       "      <td>65477565447</td>\n",
       "      <td>1983-10-18</td>\n",
       "      <td>Marcio</td>\n",
       "      <td>J</td>\n",
       "      <td>Gomes</td>\n",
       "      <td>Rua Casemiro 28</td>\n",
       "      <td>1650.0</td>\n",
       "      <td>M</td>\n",
       "      <td>3248493205</td>\n",
       "      <td>1</td>\n",
       "    </tr>\n",
       "  </tbody>\n",
       "</table>\n",
       "</div>"
      ],
      "text/plain": [
       "           cpf data_nascimento primeiro_nome nome_meio ultimo_nome                   endereco  salario sexo cpf_supervisor  numero_departamento\n",
       "0   3248493205      1966-03-04         Pedro         P     Machado  Rua Projetada A numero 27   2200.0    M    65329865388                    1\n",
       "1   8859483743      1973-05-16         Maria         S    Oliveira            Rua Altamira 23   2200.0    F     8859483743                    2\n",
       "2  65477565447      1983-10-18        Marcio         J       Gomes            Rua Casemiro 28   1650.0    M     3248493205                    1"
      ]
     },
     "execution_count": 20,
     "metadata": {},
     "output_type": "execute_result"
    }
   ],
   "source": [
    "funcionario = spark.sql(\"\"\"\n",
    "SELECT * FROM empresa.funcionario\n",
    "\"\"\")\n",
    "funcionario.to_pandas_on_spark()"
   ]
  },
  {
   "cell_type": "code",
   "execution_count": 21,
   "metadata": {},
   "outputs": [
    {
     "data": {
      "text/plain": [
       "DataFrame[]"
      ]
     },
     "execution_count": 21,
     "metadata": {},
     "output_type": "execute_result"
    }
   ],
   "source": [
    "spark.sql(\n",
    "\"\"\"\n",
    "DELETE FROM empresa.funcionario WHERE cpf = '65477565447';\n",
    "\"\"\"\n",
    ")"
   ]
  },
  {
   "cell_type": "code",
   "execution_count": 22,
   "metadata": {},
   "outputs": [
    {
     "name": "stderr",
     "output_type": "stream",
     "text": [
      "22/05/22 11:30:32 WARN WindowExec: No Partition Defined for Window operation! Moving all data to a single partition, this can cause serious performance degradation.\n",
      "22/05/22 11:30:32 WARN WindowExec: No Partition Defined for Window operation! Moving all data to a single partition, this can cause serious performance degradation.\n"
     ]
    },
    {
     "data": {
      "text/html": [
       "<div>\n",
       "<style scoped>\n",
       "    .dataframe tbody tr th:only-of-type {\n",
       "        vertical-align: middle;\n",
       "    }\n",
       "\n",
       "    .dataframe tbody tr th {\n",
       "        vertical-align: top;\n",
       "    }\n",
       "\n",
       "    .dataframe thead th {\n",
       "        text-align: right;\n",
       "    }\n",
       "</style>\n",
       "<table border=\"1\" class=\"dataframe\">\n",
       "  <thead>\n",
       "    <tr style=\"text-align: right;\">\n",
       "      <th></th>\n",
       "      <th>cpf</th>\n",
       "      <th>data_nascimento</th>\n",
       "      <th>primeiro_nome</th>\n",
       "      <th>nome_meio</th>\n",
       "      <th>ultimo_nome</th>\n",
       "      <th>endereco</th>\n",
       "      <th>salario</th>\n",
       "      <th>sexo</th>\n",
       "      <th>cpf_supervisor</th>\n",
       "      <th>numero_departamento</th>\n",
       "    </tr>\n",
       "  </thead>\n",
       "  <tbody>\n",
       "    <tr>\n",
       "      <th>0</th>\n",
       "      <td>3248493205</td>\n",
       "      <td>1966-03-04</td>\n",
       "      <td>Pedro</td>\n",
       "      <td>P</td>\n",
       "      <td>Machado</td>\n",
       "      <td>Rua Projetada A numero 27</td>\n",
       "      <td>2200.0</td>\n",
       "      <td>M</td>\n",
       "      <td>65329865388</td>\n",
       "      <td>1</td>\n",
       "    </tr>\n",
       "    <tr>\n",
       "      <th>1</th>\n",
       "      <td>8859483743</td>\n",
       "      <td>1973-05-16</td>\n",
       "      <td>Maria</td>\n",
       "      <td>S</td>\n",
       "      <td>Oliveira</td>\n",
       "      <td>Rua Altamira 23</td>\n",
       "      <td>2200.0</td>\n",
       "      <td>F</td>\n",
       "      <td>8859483743</td>\n",
       "      <td>2</td>\n",
       "    </tr>\n",
       "  </tbody>\n",
       "</table>\n",
       "</div>"
      ],
      "text/plain": [
       "          cpf data_nascimento primeiro_nome nome_meio ultimo_nome                   endereco  salario sexo cpf_supervisor  numero_departamento\n",
       "0  3248493205      1966-03-04         Pedro         P     Machado  Rua Projetada A numero 27   2200.0    M    65329865388                    1\n",
       "1  8859483743      1973-05-16         Maria         S    Oliveira            Rua Altamira 23   2200.0    F     8859483743                    2"
      ]
     },
     "execution_count": 22,
     "metadata": {},
     "output_type": "execute_result"
    }
   ],
   "source": [
    "funcionario = spark.sql(\"\"\"\n",
    "SELECT * FROM empresa.funcionario\n",
    "\"\"\")\n",
    "funcionario.to_pandas_on_spark()"
   ]
  },
  {
   "cell_type": "code",
   "execution_count": 23,
   "metadata": {},
   "outputs": [
    {
     "data": {
      "text/plain": [
       "DataFrame[]"
      ]
     },
     "execution_count": 23,
     "metadata": {},
     "output_type": "execute_result"
    }
   ],
   "source": [
    "spark.sql(\n",
    "\"\"\"\n",
    "INSERT OVERWRITE empresa.departamento VALUES \n",
    "(5,'1988-05-22','Pesquisa','33344555587'),\n",
    "(4,'1995-01-01','Administração','98765432168'),\n",
    "(1,'1981-06-19','Matriz','88866555576');\n",
    "\"\"\"\n",
    ")"
   ]
  },
  {
   "cell_type": "code",
   "execution_count": 24,
   "metadata": {},
   "outputs": [
    {
     "data": {
      "text/plain": [
       "DataFrame[]"
      ]
     },
     "execution_count": 24,
     "metadata": {},
     "output_type": "execute_result"
    }
   ],
   "source": [
    "spark.sql(\"\"\"\n",
    "INSERT OVERWRITE empresa.dependente VALUES\n",
    "('33344555587','Alicia','F','1986-04-05','Filha'),\n",
    "('33344555587','Tiago','M','1983-10-25','Filho'),\n",
    "('33344555587','Janaína','F','1958-05-03','Esposa'),\n",
    "('98765432168','Antonio','M','1942-02-18','Marido'),\n",
    "('12345678966','Michael','M','1988-04-01','Filho'),\n",
    "('12345678966','Alicia','F','1988-12-30','Filha'),\n",
    "('12345678966','Elizabeth','F','1967-05-05','Esposa');\n",
    "\"\"\")"
   ]
  },
  {
   "cell_type": "code",
   "execution_count": 25,
   "metadata": {},
   "outputs": [
    {
     "data": {
      "text/plain": [
       "DataFrame[]"
      ]
     },
     "execution_count": 25,
     "metadata": {},
     "output_type": "execute_result"
    }
   ],
   "source": [
    "spark.sql(\"\"\"\n",
    "INSERT OVERWRITE empresa.funcionario VALUES\n",
    "('12345678966','1965-09-01','João','B','Silva','Rua das Flores 751 São Paulo SP','30000','M','33344555587','5'),\n",
    "('33344555587','1955-08-12','Fernando','T','Wong','Rua da Lapa 34 São Paulo SP','40000','M','88866555576','5'),\n",
    "('99988777767','1968-01-19','Alice','J','Zelaya','Rua Souza Lima 35 Curitiba PR','25000','F','98765432168','4'),\n",
    "('98765432168','1941-06-20','Jeniffer','S','Souza','Av Arthur de Lima 54 Santo André','43000','F','88866555576','4'),\n",
    "('66688444476','1962-09-15','Ronaldo','K','Lima','Rua Rebouças 65 Piracicaba SP','38000','M','33344555587','5'),\n",
    "('45345345376','1972-07-31','Joice','A','Leite','Av. Lucas Obes 74 São Paulo SP','25000','F','33344555587','5'),\n",
    "('98798798733','1969-03-29','André','V','Pereira','Rua Timbira 35 São Paulo SP','25000','M','98765432168','4'),\n",
    "('88866555576','1937-11-10','Jorge','E','Brito','Rua do Horto 35 Sáo Paulo SP','55000','M','','1')\n",
    "\"\"\")"
   ]
  },
  {
   "cell_type": "code",
   "execution_count": 26,
   "metadata": {},
   "outputs": [
    {
     "data": {
      "text/plain": [
       "DataFrame[]"
      ]
     },
     "execution_count": 26,
     "metadata": {},
     "output_type": "execute_result"
    }
   ],
   "source": [
    "spark.sql(\"\"\"\n",
    "CREATE OR REPLACE TABLE empresa.localizacao_departamento (\n",
    "  numero_departamento INT,\n",
    "  local STRING\n",
    ") USING DELTA\n",
    "\"\"\")"
   ]
  },
  {
   "cell_type": "code",
   "execution_count": 27,
   "metadata": {},
   "outputs": [
    {
     "data": {
      "text/plain": [
       "DataFrame[]"
      ]
     },
     "execution_count": 27,
     "metadata": {},
     "output_type": "execute_result"
    }
   ],
   "source": [
    "spark.sql(\"\"\"\n",
    "INSERT OVERWRITE empresa.localizacao_departamento VALUES\n",
    "(1,'São Paulo'),(4,'Mauá'),(5,'Santo André'),(5,'Itu'),(5,'São Paulo');\n",
    "\"\"\")"
   ]
  },
  {
   "cell_type": "code",
   "execution_count": 28,
   "metadata": {},
   "outputs": [
    {
     "data": {
      "text/plain": [
       "DataFrame[]"
      ]
     },
     "execution_count": 28,
     "metadata": {},
     "output_type": "execute_result"
    }
   ],
   "source": [
    "spark.sql(\"\"\"\n",
    "CREATE OR REPLACE TABLE empresa.projeto (\n",
    "  nome_projeto STRING,\n",
    "  numero_projeto STRING,\n",
    "  local_projeto STRING,\n",
    "  numero_departamento STRING\n",
    ") USING DELTA\n",
    "\"\"\")"
   ]
  },
  {
   "cell_type": "code",
   "execution_count": 29,
   "metadata": {},
   "outputs": [
    {
     "data": {
      "text/plain": [
       "DataFrame[]"
      ]
     },
     "execution_count": 29,
     "metadata": {},
     "output_type": "execute_result"
    }
   ],
   "source": [
    "spark.sql(\"\"\"\n",
    "INSERT OVERWRITE empresa.projeto VALUES\n",
    "('Reorganização','20','São Paulo','1'),\n",
    "('Produto Y','2','Itu','5'),\n",
    "('Novos Benefícios','30','Mauá','4'),\n",
    "('Produto X','1','Santo André','4'),\n",
    "('Informatização','10','Mauá','4'),\n",
    "('Produto Z','3','São Paulo','5');\n",
    "\"\"\")"
   ]
  },
  {
   "cell_type": "code",
   "execution_count": 30,
   "metadata": {},
   "outputs": [
    {
     "data": {
      "text/plain": [
       "DataFrame[]"
      ]
     },
     "execution_count": 30,
     "metadata": {},
     "output_type": "execute_result"
    }
   ],
   "source": [
    "spark.sql(\"\"\"\n",
    "CREATE OR REPLACE TABLE empresa.trabalha (\n",
    "  cpf_funcionario STRING,\n",
    "  numero_projeto STRING,\n",
    "  horas DOUBLE\n",
    ") USING DELTA\n",
    "\"\"\")"
   ]
  },
  {
   "cell_type": "code",
   "execution_count": 31,
   "metadata": {},
   "outputs": [
    {
     "data": {
      "text/plain": [
       "DataFrame[]"
      ]
     },
     "execution_count": 31,
     "metadata": {},
     "output_type": "execute_result"
    }
   ],
   "source": [
    "spark.sql(\"\"\"\n",
    "INSERT OVERWRITE empresa.trabalha VALUES\n",
    "('12345678966','1',32.5),\n",
    "('12345678966','2',7.5),\n",
    "('66688444476','3',40),\n",
    "('45345345376','1',20),\n",
    "('45345345376','2',20),\n",
    "('33344555587','2',10),\n",
    "('33344555587','3',10),\n",
    "('33344555587','10',10),\n",
    "('33344555587','20',10),\n",
    "('99988777767','30',30),\n",
    "('99988777767','10',10),\n",
    "('98798798733','10',35),\n",
    "('98798798733','30',5),\n",
    "('98765432168','30',5),\n",
    "('98765432168','20',20),\n",
    "('88866555576','20',0);\n",
    "\"\"\")"
   ]
  },
  {
   "cell_type": "code",
   "execution_count": 32,
   "metadata": {},
   "outputs": [
    {
     "name": "stdout",
     "output_type": "stream",
     "text": [
      "+----------------+--------------+-------------+-------------------+\n",
      "|    nome_projeto|numero_projeto|local_projeto|numero_departamento|\n",
      "+----------------+--------------+-------------+-------------------+\n",
      "|   Reorganização|            20|    São Paulo|                  1|\n",
      "|Novos Benefícios|            30|         Mauá|                  4|\n",
      "|  Informatização|            10|         Mauá|                  4|\n",
      "|       Produto X|             1|  Santo André|                  4|\n",
      "|       Produto Z|             3|    São Paulo|                  5|\n",
      "|       Produto Y|             2|          Itu|                  5|\n",
      "+----------------+--------------+-------------+-------------------+\n",
      "\n"
     ]
    }
   ],
   "source": [
    "spark.sql(\"\"\"\n",
    "SELECT * FROM empresa.projeto\n",
    "\"\"\").show()"
   ]
  },
  {
   "cell_type": "code",
   "execution_count": 33,
   "metadata": {},
   "outputs": [
    {
     "name": "stdout",
     "output_type": "stream",
     "text": [
      "+----------------+--------------+\n",
      "|    nome_projeto|numero_projeto|\n",
      "+----------------+--------------+\n",
      "|   Reorganização|            20|\n",
      "|Novos Benefícios|            30|\n",
      "|  Informatização|            10|\n",
      "|       Produto X|             1|\n",
      "|       Produto Z|             3|\n",
      "|       Produto Y|             2|\n",
      "+----------------+--------------+\n",
      "\n"
     ]
    }
   ],
   "source": [
    "spark.sql(\"\"\"\n",
    "SELECT nome_projeto, numero_projeto FROM empresa.projeto\n",
    "\"\"\").show()"
   ]
  },
  {
   "cell_type": "code",
   "execution_count": 34,
   "metadata": {},
   "outputs": [
    {
     "name": "stdout",
     "output_type": "stream",
     "text": [
      "+----------------+--------------+-------------+-------------------+\n",
      "|    nome_projeto|numero_projeto|local_projeto|numero_departamento|\n",
      "+----------------+--------------+-------------+-------------------+\n",
      "|Novos Benefícios|            30|         Mauá|                  4|\n",
      "|  Informatização|            10|         Mauá|                  4|\n",
      "+----------------+--------------+-------------+-------------------+\n",
      "\n"
     ]
    }
   ],
   "source": [
    "spark.sql(\"\"\"\n",
    "SELECT * FROM empresa.projeto\n",
    "where local_projeto = 'Mauá'\n",
    "\"\"\").show()"
   ]
  },
  {
   "cell_type": "code",
   "execution_count": 35,
   "metadata": {},
   "outputs": [
    {
     "name": "stdout",
     "output_type": "stream",
     "text": [
      "+----------------+--------------+-------------+-------------------+\n",
      "|    nome_projeto|numero_projeto|local_projeto|numero_departamento|\n",
      "+----------------+--------------+-------------+-------------------+\n",
      "|Novos Benefícios|            30|         Mauá|                  4|\n",
      "|  Informatização|            10|         Mauá|                  4|\n",
      "+----------------+--------------+-------------+-------------------+\n",
      "\n"
     ]
    }
   ],
   "source": [
    "spark.sql(\"\"\"\n",
    "SELECT * FROM empresa.projeto\n",
    "where local_projeto = 'Mauá'\n",
    "\"\"\").show()"
   ]
  },
  {
   "cell_type": "code",
   "execution_count": 36,
   "metadata": {},
   "outputs": [
    {
     "name": "stdout",
     "output_type": "stream",
     "text": [
      "+----------------+--------------+-------------+-------------------+\n",
      "|    nome_projeto|numero_projeto|local_projeto|numero_departamento|\n",
      "+----------------+--------------+-------------+-------------------+\n",
      "|Novos Benefícios|            30|         Mauá|                  4|\n",
      "|  Informatização|            10|         Mauá|                  4|\n",
      "+----------------+--------------+-------------+-------------------+\n",
      "\n"
     ]
    }
   ],
   "source": [
    "spark.sql(\"\"\"\n",
    "SELECT * FROM empresa.projeto\n",
    "where local_projeto = 'Mauá'\n",
    "and numero_departamento == 4\n",
    "\"\"\").show()"
   ]
  },
  {
   "cell_type": "code",
   "execution_count": 37,
   "metadata": {},
   "outputs": [
    {
     "name": "stdout",
     "output_type": "stream",
     "text": [
      "+-----------+-------------------+-------------+---------+-----------+--------------------+-------+----+--------------+-------------------+\n",
      "|        cpf|    data_nascimento|primeiro_nome|nome_meio|ultimo_nome|            endereco|salario|sexo|cpf_supervisor|numero_departamento|\n",
      "+-----------+-------------------+-------------+---------+-----------+--------------------+-------+----+--------------+-------------------+\n",
      "|12345678966|1965-09-01 00:00:00|         João|        B|      Silva|Rua das Flores 75...|30000.0|   M|   33344555587|                  5|\n",
      "|45345345376|1972-07-31 00:00:00|        Joice|        A|      Leite|Av. Lucas Obes 74...|25000.0|   F|   33344555587|                  5|\n",
      "|98798798733|1969-03-29 00:00:00|        André|        V|    Pereira|Rua Timbira 35 Sã...|25000.0|   M|   98765432168|                  4|\n",
      "|99988777767|1968-01-19 00:00:00|        Alice|        J|     Zelaya|Rua Souza Lima 35...|25000.0|   F|   98765432168|                  4|\n",
      "+-----------+-------------------+-------------+---------+-----------+--------------------+-------+----+--------------+-------------------+\n",
      "\n"
     ]
    }
   ],
   "source": [
    "spark.sql(\"\"\"\n",
    "SELECT * FROM empresa.funcionario\n",
    "where data_nascimento  > '1965-01-01'\n",
    "\"\"\").show()"
   ]
  },
  {
   "cell_type": "code",
   "execution_count": 38,
   "metadata": {},
   "outputs": [
    {
     "name": "stdout",
     "output_type": "stream",
     "text": [
      "+-----------+-------------------+-------------+---------+-----------+--------------------+-------+----+--------------+-------------------+\n",
      "|        cpf|    data_nascimento|primeiro_nome|nome_meio|ultimo_nome|            endereco|salario|sexo|cpf_supervisor|numero_departamento|\n",
      "+-----------+-------------------+-------------+---------+-----------+--------------------+-------+----+--------------+-------------------+\n",
      "|45345345376|1972-07-31 00:00:00|        Joice|        A|      Leite|Av. Lucas Obes 74...|25000.0|   F|   33344555587|                  5|\n",
      "|98798798733|1969-03-29 00:00:00|        André|        V|    Pereira|Rua Timbira 35 Sã...|25000.0|   M|   98765432168|                  4|\n",
      "|99988777767|1968-01-19 00:00:00|        Alice|        J|     Zelaya|Rua Souza Lima 35...|25000.0|   F|   98765432168|                  4|\n",
      "+-----------+-------------------+-------------+---------+-----------+--------------------+-------+----+--------------+-------------------+\n",
      "\n"
     ]
    }
   ],
   "source": [
    "spark.sql(\"\"\"\n",
    "SELECT * FROM empresa.funcionario\n",
    "where year(data_nascimento)  > 1965\n",
    "\"\"\").show()"
   ]
  },
  {
   "cell_type": "code",
   "execution_count": 39,
   "metadata": {},
   "outputs": [
    {
     "name": "stdout",
     "output_type": "stream",
     "text": [
      "+-----------+\n",
      "|        cpf|\n",
      "+-----------+\n",
      "|12345678966|\n",
      "|45345345376|\n",
      "|66688444476|\n",
      "|33344555587|\n",
      "|88866555576|\n",
      "+-----------+\n",
      "\n"
     ]
    }
   ],
   "source": [
    "spark.sql(\"\"\"\n",
    "SELECT cpf FROM empresa.funcionario where numero_departamento  = 5\n",
    "UNION\n",
    "SELECT distinct cpf_supervisor FROM empresa.funcionario where numero_departamento  = 5\n",
    "\"\"\").show()"
   ]
  },
  {
   "cell_type": "code",
   "execution_count": 40,
   "metadata": {},
   "outputs": [
    {
     "name": "stdout",
     "output_type": "stream",
     "text": [
      "+-------------+-----------+-----------+---------------+---------------+----+-------------------+----------+\n",
      "|primeiro_nome|ultimo_nome|        cpf|cpf_funcionario|nome_dependente|sexo|    data_nascimento|parentesco|\n",
      "+-------------+-----------+-----------+---------------+---------------+----+-------------------+----------+\n",
      "|     Jeniffer|      Souza|98765432168|    98765432168|        Antonio|   M|1942-02-18 00:00:00|    Marido|\n",
      "+-------------+-----------+-----------+---------------+---------------+----+-------------------+----------+\n",
      "\n"
     ]
    }
   ],
   "source": [
    "spark.sql(\"\"\"\n",
    "SELECT a.primeiro_nome, a.ultimo_nome, a.cpf,\n",
    "b.cpf_funcionario, b.nome_dependente, b.sexo, b.data_nascimento, b.parentesco\n",
    "FROM empresa.funcionario a \n",
    "inner join empresa.dependente b on a.cpf = b.cpf_funcionario\n",
    "where a.sexo  = 'F'\n",
    "\"\"\").show()"
   ]
  },
  {
   "cell_type": "code",
   "execution_count": 41,
   "metadata": {},
   "outputs": [
    {
     "name": "stdout",
     "output_type": "stream",
     "text": [
      "+-------------+---------+-----------+----------------+\n",
      "|primeiro_nome|nome_meio|ultimo_nome|    nome_projeto|\n",
      "+-------------+---------+-----------+----------------+\n",
      "|     Jeniffer|        S|      Souza|       Produto X|\n",
      "|     Jeniffer|        S|      Souza|  Informatização|\n",
      "|     Jeniffer|        S|      Souza|Novos Benefícios|\n",
      "|     Fernando|        T|       Wong|       Produto Y|\n",
      "|     Fernando|        T|       Wong|       Produto Z|\n",
      "|        Jorge|        E|      Brito|   Reorganização|\n",
      "+-------------+---------+-----------+----------------+\n",
      "\n"
     ]
    }
   ],
   "source": [
    "spark.sql(\"\"\"\n",
    "SELECT a.primeiro_nome, a.nome_meio, a.ultimo_nome,b.nome_projeto\n",
    "FROM empresa.funcionario a\n",
    "inner join empresa.departamento c on c.cpf_gerente = a.cpf\n",
    "inner join empresa.projeto b on b.numero_departamento = c.numero_departamento\n",
    "\"\"\").show()"
   ]
  },
  {
   "cell_type": "code",
   "execution_count": 42,
   "metadata": {},
   "outputs": [
    {
     "name": "stdout",
     "output_type": "stream",
     "text": [
      "+-------------+---------+-----------+\n",
      "|primeiro_nome|nome_meio|ultimo_nome|\n",
      "+-------------+---------+-----------+\n",
      "|     Fernando|        T|       Wong|\n",
      "+-------------+---------+-----------+\n",
      "\n"
     ]
    }
   ],
   "source": [
    "spark.sql(\"\"\"\n",
    "SELECT a.primeiro_nome, a.nome_meio, a.ultimo_nome\n",
    "FROM empresa.funcionario a\n",
    "INNER JOIN empresa.trabalha b ON a.cpf = b.cpf_funcionario\n",
    "WHERE a.numero_departamento = 5 AND b.numero_projeto = 10 AND b.horas >= 10\n",
    "\"\"\").show()"
   ]
  },
  {
   "cell_type": "code",
   "execution_count": 43,
   "metadata": {},
   "outputs": [
    {
     "name": "stdout",
     "output_type": "stream",
     "text": [
      "+-------------+---------+-----------+--------------------+\n",
      "|primeiro_nome|nome_meio|ultimo_nome|            endereco|\n",
      "+-------------+---------+-----------+--------------------+\n",
      "|         João|        B|      Silva|Rua das Flores 75...|\n",
      "|        Joice|        A|      Leite|Av. Lucas Obes 74...|\n",
      "|      Ronaldo|        K|       Lima|Rua Rebouças 65 P...|\n",
      "|     Fernando|        T|       Wong|Rua da Lapa 34 Sã...|\n",
      "+-------------+---------+-----------+--------------------+\n",
      "\n"
     ]
    }
   ],
   "source": [
    "spark.sql(\"\"\"\n",
    "SELECT a.primeiro_nome,a.nome_meio,a.ultimo_nome, a.endereco\n",
    "from empresa.funcionario a\n",
    "inner join empresa.departamento b on a.numero_departamento = b.numero_departamento\n",
    "where b.nome_departamento = 'Pesquisa'\n",
    "\"\"\").show()"
   ]
  },
  {
   "cell_type": "markdown",
   "metadata": {},
   "source": [
    "Para cada projeto localizado em 'Mauá' liste o número do projeto, o número do departamento que o controla e o último nome, endereço e data de nascimento do gerente do departamento"
   ]
  },
  {
   "cell_type": "code",
   "execution_count": 44,
   "metadata": {},
   "outputs": [
    {
     "name": "stdout",
     "output_type": "stream",
     "text": [
      "+--------------+-------------------+-----------+--------------------+-------------------+\n",
      "|numero_projeto|numero_departamento|ultimo_nome|            endereco|    data_nascimento|\n",
      "+--------------+-------------------+-----------+--------------------+-------------------+\n",
      "|            10|                  4|      Souza|Av Arthur de Lima...|1941-06-20 00:00:00|\n",
      "|            30|                  4|      Souza|Av Arthur de Lima...|1941-06-20 00:00:00|\n",
      "+--------------+-------------------+-----------+--------------------+-------------------+\n",
      "\n"
     ]
    }
   ],
   "source": [
    "spark.sql(\"\"\"\n",
    "SELECT b.numero_projeto, b.numero_departamento, a.ultimo_nome, a.endereco, a.data_nascimento\n",
    "FROM empresa.projeto b\n",
    "INNER JOIN empresa.departamento c on c.numero_departamento = b.numero_departamento\n",
    "INNER JOIN empresa.funcionario a on a.cpf = c.cpf_gerente\n",
    "where b.local_projeto = 'Mauá'\n",
    "\"\"\").show()"
   ]
  },
  {
   "cell_type": "markdown",
   "metadata": {},
   "source": [
    "Descobrir os nomes dos funcionarios que trabalham em todos os projetos controlados pelo departamento numero 5"
   ]
  },
  {
   "cell_type": "code",
   "execution_count": 45,
   "metadata": {},
   "outputs": [
    {
     "name": "stdout",
     "output_type": "stream",
     "text": [
      "+------------+--------------+-------------+-------------------+\n",
      "|nome_projeto|numero_projeto|local_projeto|numero_departamento|\n",
      "+------------+--------------+-------------+-------------------+\n",
      "|   Produto Z|             3|    São Paulo|                  5|\n",
      "|   Produto Y|             2|          Itu|                  5|\n",
      "+------------+--------------+-------------+-------------------+\n",
      "\n"
     ]
    }
   ],
   "source": [
    "spark.sql(\"\"\"\n",
    "SELECT * FROM empresa.projeto where numero_departamento = 5\n",
    "\"\"\").show()"
   ]
  },
  {
   "cell_type": "code",
   "execution_count": 46,
   "metadata": {},
   "outputs": [
    {
     "name": "stdout",
     "output_type": "stream",
     "text": [
      "+---------------+--------------+-----+\n",
      "|cpf_funcionario|numero_projeto|horas|\n",
      "+---------------+--------------+-----+\n",
      "|    33344555587|             3| 10.0|\n",
      "|    66688444476|             3| 40.0|\n",
      "|    12345678966|             2|  7.5|\n",
      "|    33344555587|             2| 10.0|\n",
      "|    45345345376|             2| 20.0|\n",
      "+---------------+--------------+-----+\n",
      "\n"
     ]
    }
   ],
   "source": [
    "spark.sql(\"\"\"\n",
    "SELECT * FROM empresa.trabalha where numero_projeto in (SELECT distinct numero_projeto FROM empresa.projeto where numero_departamento = 5)\n",
    "\"\"\").show()"
   ]
  },
  {
   "cell_type": "code",
   "execution_count": 47,
   "metadata": {},
   "outputs": [
    {
     "name": "stdout",
     "output_type": "stream",
     "text": [
      "+---------------+--------------+-----+\n",
      "|cpf_funcionario|numero_projeto|horas|\n",
      "+---------------+--------------+-----+\n",
      "|    33344555587|             3| 10.0|\n",
      "+---------------+--------------+-----+\n",
      "\n"
     ]
    }
   ],
   "source": [
    "spark.sql(\"\"\"\n",
    "SELECT * FROM empresa.trabalha where numero_projeto = 3 and cpf_funcionario in\n",
    "(SELECT cpf_funcionario FROM empresa.trabalha where numero_projeto = 2)\n",
    "\"\"\").show()"
   ]
  },
  {
   "cell_type": "code",
   "execution_count": 48,
   "metadata": {},
   "outputs": [
    {
     "name": "stdout",
     "output_type": "stream",
     "text": [
      "+-------------+---------+-----------+\n",
      "|primeiro_nome|nome_meio|ultimo_nome|\n",
      "+-------------+---------+-----------+\n",
      "|     Fernando|        T|       Wong|\n",
      "+-------------+---------+-----------+\n",
      "\n"
     ]
    }
   ],
   "source": [
    "spark.sql(\"\"\"\n",
    "SELECT a.primeiro_nome, a.nome_meio, a.ultimo_nome\n",
    "FROM empresa.funcionario a\n",
    "INNER JOIN \n",
    "(SELECT * FROM empresa.trabalha where numero_projeto = 3 and cpf_funcionario in\n",
    "(SELECT cpf_funcionario FROM empresa.trabalha where numero_projeto = 2)) b\n",
    "ON a.cpf = b.cpf_funcionario\n",
    "\"\"\").show()"
   ]
  },
  {
   "cell_type": "code",
   "execution_count": 49,
   "metadata": {},
   "outputs": [
    {
     "name": "stdout",
     "output_type": "stream",
     "text": [
      "+-------------+---------+-----------+\n",
      "|primeiro_nome|nome_meio|ultimo_nome|\n",
      "+-------------+---------+-----------+\n",
      "|     Fernando|        T|       Wong|\n",
      "+-------------+---------+-----------+\n",
      "\n"
     ]
    }
   ],
   "source": [
    "spark.sql(\"\"\"\n",
    "SELECT a.primeiro_nome, a.nome_meio, a.ultimo_nome\n",
    "FROM empresa.projeto b\n",
    "INNER JOIN empresa.trabalha c ON b.numero_projeto = c.numero_projeto\n",
    "INNER JOIN empresa.funcionario a ON c.cpf_funcionario = a.cpf\n",
    "where b.numero_departamento = 5\n",
    "GROUP BY a.primeiro_nome, a.nome_meio, a.ultimo_nome\n",
    "HAVING count(*) > 1\n",
    "\"\"\").show()"
   ]
  },
  {
   "cell_type": "markdown",
   "metadata": {},
   "source": [
    "Numero dos projeto que contem um funcionario cujo o ultimo nome 'Souza', seja como funcionario ou gerente"
   ]
  },
  {
   "cell_type": "code",
   "execution_count": 50,
   "metadata": {},
   "outputs": [
    {
     "name": "stdout",
     "output_type": "stream",
     "text": [
      "+--------------+\n",
      "|numero_projeto|\n",
      "+--------------+\n",
      "|            30|\n",
      "|            20|\n",
      "|            10|\n",
      "|             1|\n",
      "+--------------+\n",
      "\n"
     ]
    }
   ],
   "source": [
    "spark.sql(\"\"\"\n",
    "SELECT  a.numero_projeto\n",
    "FROM empresa.projeto a\n",
    "INNER JOIN empresa.trabalha b ON a.numero_projeto = b.numero_projeto\n",
    "INNER JOIN empresa.funcionario c ON b.cpf_funcionario = c.cpf\n",
    "WHERE c.ultimo_nome = 'Souza'\n",
    "UNION\n",
    "SELECT  a.numero_projeto\n",
    "FROM empresa.projeto a\n",
    "INNER JOIN empresa.departamento b ON a.numero_departamento = b.numero_departamento\n",
    "INNER JOIN empresa.funcionario c ON b.cpf_gerente = c.cpf\n",
    "WHERE c.ultimo_nome = 'Souza'\n",
    "\"\"\").show()"
   ]
  },
  {
   "cell_type": "markdown",
   "metadata": {},
   "source": [
    "Recuperar os nomes dos funcionarios que não possuem dependentes"
   ]
  },
  {
   "cell_type": "code",
   "execution_count": 51,
   "metadata": {},
   "outputs": [
    {
     "name": "stdout",
     "output_type": "stream",
     "text": [
      "+-------------+---------+-----------+\n",
      "|primeiro_nome|nome_meio|ultimo_nome|\n",
      "+-------------+---------+-----------+\n",
      "|        Joice|        A|      Leite|\n",
      "|      Ronaldo|        K|       Lima|\n",
      "|        André|        V|    Pereira|\n",
      "|        Alice|        J|     Zelaya|\n",
      "|        Jorge|        E|      Brito|\n",
      "+-------------+---------+-----------+\n",
      "\n"
     ]
    }
   ],
   "source": [
    "spark.sql(\"\"\"\n",
    "SELECT a.primeiro_nome, a.nome_meio, a.ultimo_nome\n",
    "FROM empresa.funcionario a\n",
    "LEFT JOIN empresa.dependente b ON b.cpf_funcionario = a.cpf\n",
    "where b.cpf_funcionario is null\n",
    "\"\"\").show()"
   ]
  },
  {
   "cell_type": "markdown",
   "metadata": {},
   "source": [
    "Lista o nome dos gerentes que possuem pelo menos um dependente"
   ]
  },
  {
   "cell_type": "code",
   "execution_count": 52,
   "metadata": {},
   "outputs": [
    {
     "name": "stdout",
     "output_type": "stream",
     "text": [
      "+-------------+---------+-----------+\n",
      "|primeiro_nome|nome_meio|ultimo_nome|\n",
      "+-------------+---------+-----------+\n",
      "|     Jeniffer|        S|      Souza|\n",
      "|     Fernando|        T|       Wong|\n",
      "+-------------+---------+-----------+\n",
      "\n"
     ]
    }
   ],
   "source": [
    "spark.sql(\"\"\"\n",
    "SELECT distinct a.primeiro_nome, a.nome_meio, a.ultimo_nome\n",
    "FROM empresa.funcionario a\n",
    "INNER JOIN empresa.departamento c ON a.cpf = c.cpf_gerente\n",
    "INNER JOIN empresa.dependente b ON b.cpf_funcionario = a.cpf\n",
    "\"\"\").show()"
   ]
  }
 ],
 "metadata": {
  "interpreter": {
   "hash": "e7370f93d1d0cde622a1f8e1c04877d8463912d04d973331ad4851f04de6915a"
  },
  "kernelspec": {
   "display_name": "Python 3.8.10 64-bit",
   "language": "python",
   "name": "python3"
  },
  "language_info": {
   "codemirror_mode": {
    "name": "ipython",
    "version": 3
   },
   "file_extension": ".py",
   "mimetype": "text/x-python",
   "name": "python",
   "nbconvert_exporter": "python",
   "pygments_lexer": "ipython3",
   "version": "3.8.10"
  },
  "orig_nbformat": 4
 },
 "nbformat": 4,
 "nbformat_minor": 2
}
